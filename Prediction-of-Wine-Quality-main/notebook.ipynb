{
 "cells": [
  {
   "cell_type": "code",
   "execution_count": 1,
   "id": "setup-imports",
   "metadata": {},
   "outputs": [],
   "source": [
    "import pandas as pd\n",
    "import numpy as np\n",
    "from sklearn.impute import KNNImputer\n",
    "from sklearn.preprocessing import StandardScaler\n",
    "from sklearn.model_selection import train_test_split\n",
    "from sklearn.ensemble import RandomForestClassifier\n",
    "from sklearn.metrics import classification_report, accuracy_score\n",
    "import joblib, os"
   ]
  },
  {
   "cell_type": "code",
   "execution_count": 2,
   "id": "load-data",
   "metadata": {},
   "outputs": [],
   "source": [
    "# ✅ Load dataset\n",
    "wine = pd.read_csv(\"winequality-red-selected-missing.csv\")\n",
    "print(\"Dataset shape:\", wine.shape)\n",
    "wine.head()"
   ]
  },
  {
   "cell_type": "code",
   "execution_count": 3,
   "id": "impute-data",
   "metadata": {},
   "outputs": [],
   "source": [
    "# ✅ KNN Imputation for missing values\n",
    "imputer = KNNImputer(n_neighbors=5)\n",
    "wine_imputed = pd.DataFrame(imputer.fit_transform(wine), columns=wine.columns)\n",
    "\n",
    "# ✅ Add binary target\n",
    "wine_imputed[\"good_quality\"] = (wine_imputed[\"quality\"] >= 7).astype(int)\n",
    "wine_imputed.head()"
   ]
  },
  {
   "cell_type": "code",
   "execution_count": 4,
   "id": "split-data",
   "metadata": {},
   "outputs": [],
   "source": [
    "# ✅ Features & target\n",
    "X = wine_imputed.drop(columns=[\"quality\", \"good_quality\"])\n",
    "y = wine_imputed[\"good_quality\"]\n",
    "\n",
    "# ✅ Scale features\n",
    "scaler = StandardScaler()\n",
    "X_scaled = scaler.fit_transform(X)\n",
    "\n",
    "# ✅ Train/test split\n",
    "X_train, X_test, y_train, y_test = train_test_split(\n",
    "    X_scaled, y, test_size=0.2, random_state=42, stratify=y\n",
    ")"
   ]
  },
  {
   "cell_type": "code",
   "execution_count": 5,
   "id": "train-model",
   "metadata": {},
   "outputs": [],
   "source": [
    "# ✅ Train RandomForest model\n",
    "model = RandomForestClassifier(random_state=42, n_estimators=200, max_depth=12)\n",
    "model.fit(X_train, y_train)\n",
    "\n",
    "# Evaluate\n",
    "y_pred = model.predict(X_test)\n",
    "print(\"Accuracy:\", accuracy_score(y_test, y_pred))\n",
    "print(classification_report(y_test, y_pred))"
   ]
  },
  {
   "cell_type": "code",
   "execution_count": 6,
   "id": "save-model",
   "metadata": {},
   "outputs": [],
   "source": [
    "# ✅ Save model + scaler in artifacts/ so app.py can load them\n",
    "os.makedirs(\"artifacts\", exist_ok=True)\n",
    "joblib.dump(model, \"artifacts/wine_quality_model.pkl\")\n",
    "joblib.dump(scaler, \"artifacts/scaler.pkl\")\n",
    "print(\"✅ Model and scaler saved in artifacts/ folder\")"
   ]
  }
 ],
 "metadata": {
  "kernelspec": {
   "display_name": "base",
   "language": "python",
   "name": "python3"
  },
  "language_info": {
   "name": "python",
   "version": "3.13.5"
  }
 },
 "nbformat": 4,
 "nbformat_minor": 5
}
