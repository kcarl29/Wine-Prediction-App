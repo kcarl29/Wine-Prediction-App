{
 "cells": [
  {
   "cell_type": "code",
   "execution_count": 18,
   "id": "setup-imports",
   "metadata": {},
   "outputs": [],
   "source": [
    "import pandas as pd\n",
    "import numpy as np\n",
    "from sklearn.impute import KNNImputer\n",
    "from sklearn.experimental import enable_iterative_imputer  \n",
    "from sklearn.impute import IterativeImputer\n",
    "from sklearn.preprocessing import StandardScaler\n",
    "from sklearn.model_selection import train_test_split\n",
    "from sklearn.ensemble import RandomForestClassifier\n",
    "from sklearn.metrics import classification_report, accuracy_score\n",
    "import joblib, os\n",
    "\n",
    "\n",
    "wine = pd.read_csv(\"winequality-red-selected-missing.csv\")"
   ]
  },
  {
   "cell_type": "code",
   "execution_count": null,
   "id": "load-data",
   "metadata": {},
   "outputs": [],
   "source": [
    "def impute_and_train(imputer, name):\n",
    "    print(f\"\\n🔎 Testing imputer: {name}\")\n",
    "    \n",
    "\n",
    "    wine_imputed = pd.DataFrame(imputer.fit_transform(wine), columns=wine.columns)\n",
    "    wine_imputed[\"good_quality\"] = (wine_imputed[\"quality\"] >= 7).astype(int)\n",
    "\n",
    " \n",
    "    X = wine_imputed.drop(columns=[\"quality\", \"good_quality\"])\n",
    "    y = wine_imputed[\"good_quality\"]\n",
    "\n",
    "  \n",
    "    scaler = StandardScaler()\n",
    "    X_scaled = scaler.fit_transform(X)\n",
    "\n",
    " \n",
    "    X_train, X_test, y_train, y_test = train_test_split(\n",
    "        X_scaled, y, test_size=0.2, random_state=42, stratify=y\n",
    "    )\n",
    "\n",
    "\n",
    "    model = RandomForestClassifier(random_state=42, n_estimators=200, max_depth=12)\n",
    "    model.fit(X_train, y_train)\n",
    "\n",
    "    y_pred = model.predict(X_test)\n",
    "    print(\"Accuracy:\", accuracy_score(y_test, y_pred))\n",
    "    print(classification_report(y_test, y_pred))\n",
    "\n",
    "    return model, scaler\n"
   ]
  },
  {
   "cell_type": "code",
   "execution_count": 20,
   "id": "impute-data",
   "metadata": {},
   "outputs": [
    {
     "name": "stdout",
     "output_type": "stream",
     "text": [
      "\n",
      "🔎 Testing imputer: KNN\n",
      "Accuracy: 0.934375\n",
      "              precision    recall  f1-score   support\n",
      "\n",
      "           0       0.94      0.99      0.96       277\n",
      "           1       0.89      0.58      0.70        43\n",
      "\n",
      "    accuracy                           0.93       320\n",
      "   macro avg       0.92      0.79      0.83       320\n",
      "weighted avg       0.93      0.93      0.93       320\n",
      "\n",
      "\n",
      "🔎 Testing imputer: Iterative\n",
      "Accuracy: 0.934375\n",
      "              precision    recall  f1-score   support\n",
      "\n",
      "           0       0.94      0.99      0.96       277\n",
      "           1       0.87      0.60      0.71        43\n",
      "\n",
      "    accuracy                           0.93       320\n",
      "   macro avg       0.90      0.80      0.84       320\n",
      "weighted avg       0.93      0.93      0.93       320\n",
      "\n"
     ]
    }
   ],
   "source": [
    "knn_model, knn_scaler = impute_and_train(KNNImputer(n_neighbors=5), \"KNN\")\n",
    "iter_model, iter_scaler = impute_and_train(IterativeImputer(random_state=42), \"Iterative\")\n"
   ]
  },
  {
   "cell_type": "code",
   "execution_count": 21,
   "id": "split-data",
   "metadata": {},
   "outputs": [],
   "source": [
    "final_model, final_scaler = iter_model, iter_scaler\n"
   ]
  },
  {
   "cell_type": "code",
   "execution_count": 22,
   "id": "train-model",
   "metadata": {},
   "outputs": [
    {
     "name": "stdout",
     "output_type": "stream",
     "text": [
      "✅ Best model + scaler saved!\n"
     ]
    }
   ],
   "source": [
    "os.makedirs(\"artifacts\", exist_ok=True)\n",
    "joblib.dump(final_model, \"artifacts/wine_quality_model.pkl\")\n",
    "joblib.dump(final_scaler, \"artifacts/scaler.pkl\")\n",
    "print(\"✅ Best model + scaler saved!\")"
   ]
  }
 ],
 "metadata": {
  "kernelspec": {
   "display_name": "Python 3",
   "language": "python",
   "name": "python3"
  },
  "language_info": {
   "codemirror_mode": {
    "name": "ipython",
    "version": 3
   },
   "file_extension": ".py",
   "mimetype": "text/x-python",
   "name": "python",
   "nbconvert_exporter": "python",
   "pygments_lexer": "ipython3",
   "version": "3.11.9"
  }
 },
 "nbformat": 4,
 "nbformat_minor": 5
}
